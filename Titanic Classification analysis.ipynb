{
 "cells": [
  {
   "cell_type": "code",
   "execution_count": 1,
   "id": "f973a30e",
   "metadata": {},
   "outputs": [],
   "source": [
    "import numpy as np  # Importing the NumPy library and renaming it to \"np\"\n",
    "import pandas as pd  # Importing the Pandas library and renaming it to \"pd\"\n",
    "import matplotlib.pyplot as plt  # Importing the Pyplot module from the Matplotlib library and renaming it to \"plt\"\n",
    "import seaborn as sns  # Importing the Seaborn library and renaming it to \"sns\"\n",
    "%matplotlib inline  "
   ]
  },
  {
   "cell_type": "code",
   "execution_count": 2,
   "id": "959df7b1",
   "metadata": {},
   "outputs": [],
   "source": [
    "# \"train.csv\" located in the \"Downloads\" folder of the user \"niraj\" using the pandas library and assigning it to a variable named \"titanic_df\"\n",
    "titanic_df = pd.read_csv(r'C:\\Users\\niraj\\Downloads\\train.csv')"
   ]
  },
  {
   "cell_type": "code",
   "execution_count": 3,
   "id": "bb2ac0d3",
   "metadata": {},
   "outputs": [
    {
     "data": {
      "text/html": [
       "<div>\n",
       "<style scoped>\n",
       "    .dataframe tbody tr th:only-of-type {\n",
       "        vertical-align: middle;\n",
       "    }\n",
       "\n",
       "    .dataframe tbody tr th {\n",
       "        vertical-align: top;\n",
       "    }\n",
       "\n",
       "    .dataframe thead th {\n",
       "        text-align: right;\n",
       "    }\n",
       "</style>\n",
       "<table border=\"1\" class=\"dataframe\">\n",
       "  <thead>\n",
       "    <tr style=\"text-align: right;\">\n",
       "      <th></th>\n",
       "      <th>PassengerId</th>\n",
       "      <th>Survived</th>\n",
       "      <th>Pclass</th>\n",
       "      <th>Name</th>\n",
       "      <th>Sex</th>\n",
       "      <th>Age</th>\n",
       "      <th>SibSp</th>\n",
       "      <th>Parch</th>\n",
       "      <th>Ticket</th>\n",
       "      <th>Fare</th>\n",
       "      <th>Cabin</th>\n",
       "      <th>Embarked</th>\n",
       "    </tr>\n",
       "  </thead>\n",
       "  <tbody>\n",
       "    <tr>\n",
       "      <th>0</th>\n",
       "      <td>1</td>\n",
       "      <td>0</td>\n",
       "      <td>3</td>\n",
       "      <td>Braund, Mr. Owen Harris</td>\n",
       "      <td>male</td>\n",
       "      <td>22.0</td>\n",
       "      <td>1</td>\n",
       "      <td>0</td>\n",
       "      <td>A/5 21171</td>\n",
       "      <td>7.2500</td>\n",
       "      <td>NaN</td>\n",
       "      <td>S</td>\n",
       "    </tr>\n",
       "    <tr>\n",
       "      <th>1</th>\n",
       "      <td>2</td>\n",
       "      <td>1</td>\n",
       "      <td>1</td>\n",
       "      <td>Cumings, Mrs. John Bradley (Florence Briggs Th...</td>\n",
       "      <td>female</td>\n",
       "      <td>38.0</td>\n",
       "      <td>1</td>\n",
       "      <td>0</td>\n",
       "      <td>PC 17599</td>\n",
       "      <td>71.2833</td>\n",
       "      <td>C85</td>\n",
       "      <td>C</td>\n",
       "    </tr>\n",
       "    <tr>\n",
       "      <th>2</th>\n",
       "      <td>3</td>\n",
       "      <td>1</td>\n",
       "      <td>3</td>\n",
       "      <td>Heikkinen, Miss. Laina</td>\n",
       "      <td>female</td>\n",
       "      <td>26.0</td>\n",
       "      <td>0</td>\n",
       "      <td>0</td>\n",
       "      <td>STON/O2. 3101282</td>\n",
       "      <td>7.9250</td>\n",
       "      <td>NaN</td>\n",
       "      <td>S</td>\n",
       "    </tr>\n",
       "    <tr>\n",
       "      <th>3</th>\n",
       "      <td>4</td>\n",
       "      <td>1</td>\n",
       "      <td>1</td>\n",
       "      <td>Futrelle, Mrs. Jacques Heath (Lily May Peel)</td>\n",
       "      <td>female</td>\n",
       "      <td>35.0</td>\n",
       "      <td>1</td>\n",
       "      <td>0</td>\n",
       "      <td>113803</td>\n",
       "      <td>53.1000</td>\n",
       "      <td>C123</td>\n",
       "      <td>S</td>\n",
       "    </tr>\n",
       "    <tr>\n",
       "      <th>4</th>\n",
       "      <td>5</td>\n",
       "      <td>0</td>\n",
       "      <td>3</td>\n",
       "      <td>Allen, Mr. William Henry</td>\n",
       "      <td>male</td>\n",
       "      <td>35.0</td>\n",
       "      <td>0</td>\n",
       "      <td>0</td>\n",
       "      <td>373450</td>\n",
       "      <td>8.0500</td>\n",
       "      <td>NaN</td>\n",
       "      <td>S</td>\n",
       "    </tr>\n",
       "  </tbody>\n",
       "</table>\n",
       "</div>"
      ],
      "text/plain": [
       "   PassengerId  Survived  Pclass  \\\n",
       "0            1         0       3   \n",
       "1            2         1       1   \n",
       "2            3         1       3   \n",
       "3            4         1       1   \n",
       "4            5         0       3   \n",
       "\n",
       "                                                Name     Sex   Age  SibSp  \\\n",
       "0                            Braund, Mr. Owen Harris    male  22.0      1   \n",
       "1  Cumings, Mrs. John Bradley (Florence Briggs Th...  female  38.0      1   \n",
       "2                             Heikkinen, Miss. Laina  female  26.0      0   \n",
       "3       Futrelle, Mrs. Jacques Heath (Lily May Peel)  female  35.0      1   \n",
       "4                           Allen, Mr. William Henry    male  35.0      0   \n",
       "\n",
       "   Parch            Ticket     Fare Cabin Embarked  \n",
       "0      0         A/5 21171   7.2500   NaN        S  \n",
       "1      0          PC 17599  71.2833   C85        C  \n",
       "2      0  STON/O2. 3101282   7.9250   NaN        S  \n",
       "3      0            113803  53.1000  C123        S  \n",
       "4      0            373450   8.0500   NaN        S  "
      ]
     },
     "execution_count": 3,
     "metadata": {},
     "output_type": "execute_result"
    }
   ],
   "source": [
    "# display the first 5 rows of the titanic_df DataFrame:\n",
    "titanic_df.head(5)"
   ]
  },
  {
   "cell_type": "code",
   "execution_count": 4,
   "id": "f2303833",
   "metadata": {},
   "outputs": [
    {
     "data": {
      "text/plain": [
       "(891, 12)"
      ]
     },
     "execution_count": 4,
     "metadata": {},
     "output_type": "execute_result"
    }
   ],
   "source": [
    "# display the shape of the titanic_df DataFrame:\n",
    "titanic_df.shape"
   ]
  },
  {
   "cell_type": "code",
   "execution_count": 5,
   "id": "24285c8b",
   "metadata": {},
   "outputs": [
    {
     "name": "stdout",
     "output_type": "stream",
     "text": [
      "<class 'pandas.core.frame.DataFrame'>\n",
      "RangeIndex: 891 entries, 0 to 890\n",
      "Data columns (total 12 columns):\n",
      " #   Column       Non-Null Count  Dtype  \n",
      "---  ------       --------------  -----  \n",
      " 0   PassengerId  891 non-null    int64  \n",
      " 1   Survived     891 non-null    int64  \n",
      " 2   Pclass       891 non-null    int64  \n",
      " 3   Name         891 non-null    object \n",
      " 4   Sex          891 non-null    object \n",
      " 5   Age          714 non-null    float64\n",
      " 6   SibSp        891 non-null    int64  \n",
      " 7   Parch        891 non-null    int64  \n",
      " 8   Ticket       891 non-null    object \n",
      " 9   Fare         891 non-null    float64\n",
      " 10  Cabin        204 non-null    object \n",
      " 11  Embarked     889 non-null    object \n",
      "dtypes: float64(2), int64(5), object(5)\n",
      "memory usage: 83.7+ KB\n"
     ]
    }
   ],
   "source": [
    "# display the summary information of the titanic_df DataFrame:\n",
    "titanic_df.info()"
   ]
  },
  {
   "cell_type": "code",
   "execution_count": 6,
   "id": "51395429",
   "metadata": {},
   "outputs": [
    {
     "data": {
      "text/plain": [
       "(PassengerId      0\n",
       " Survived         0\n",
       " Pclass           0\n",
       " Name             0\n",
       " Sex              0\n",
       " Age            177\n",
       " SibSp            0\n",
       " Parch            0\n",
       " Ticket           0\n",
       " Fare             0\n",
       " Cabin          687\n",
       " Embarked         2\n",
       " dtype: int64,\n",
       " PassengerId     0.000000\n",
       " Survived        0.000000\n",
       " Pclass          0.000000\n",
       " Name            0.000000\n",
       " Sex             0.000000\n",
       " Age            19.865320\n",
       " SibSp           0.000000\n",
       " Parch           0.000000\n",
       " Ticket          0.000000\n",
       " Fare            0.000000\n",
       " Cabin          77.104377\n",
       " Embarked        0.224467\n",
       " dtype: float64)"
      ]
     },
     "execution_count": 6,
     "metadata": {},
     "output_type": "execute_result"
    }
   ],
   "source": [
    "# count the number of missing values in the titanic_df DataFrame and calculate the percentage of missing values in each column:\n",
    "titanic_df.isnull().sum(), titanic_df.isnull().sum()/titanic_df.shape[0] *100"
   ]
  },
  {
   "cell_type": "code",
   "execution_count": 7,
   "id": "c091c0dd",
   "metadata": {},
   "outputs": [],
   "source": [
    "# remove the 'Cabin' column from the titanic_df DataFrame:\n",
    "titanic_df.drop(columns=['Cabin'], axis=1, inplace=True)"
   ]
  },
  {
   "cell_type": "code",
   "execution_count": 8,
   "id": "7d43b0ec",
   "metadata": {},
   "outputs": [
    {
     "data": {
      "text/plain": [
       "(891, 11)"
      ]
     },
     "execution_count": 8,
     "metadata": {},
     "output_type": "execute_result"
    }
   ],
   "source": [
    "# display the shape of the titanic_df DataFrame after removing column 'Cabin':\n",
    "titanic_df.shape"
   ]
  },
  {
   "cell_type": "code",
   "execution_count": 9,
   "id": "d77bfc71",
   "metadata": {},
   "outputs": [],
   "source": [
    "#fill missing values in the 'Age' column of the titanic_df DataFrame with the mean age:\n",
    "titanic_df.fillna(titanic_df['Age'].mean(), inplace=True)"
   ]
  },
  {
   "cell_type": "code",
   "execution_count": 10,
   "id": "fed139fb",
   "metadata": {},
   "outputs": [],
   "source": [
    "# fill missing values in the 'Embarked' column of the titanic_df DataFrame with the mode (i.e., most common value):\n",
    "titanic_df.fillna(titanic_df['Embarked'].mode().iloc[0], inplace=True)"
   ]
  },
  {
   "cell_type": "code",
   "execution_count": 11,
   "id": "91223840",
   "metadata": {},
   "outputs": [
    {
     "name": "stdout",
     "output_type": "stream",
     "text": [
      "<class 'pandas.core.frame.DataFrame'>\n",
      "RangeIndex: 891 entries, 0 to 890\n",
      "Data columns (total 11 columns):\n",
      " #   Column       Non-Null Count  Dtype  \n",
      "---  ------       --------------  -----  \n",
      " 0   PassengerId  891 non-null    int64  \n",
      " 1   Survived     891 non-null    int64  \n",
      " 2   Pclass       891 non-null    int64  \n",
      " 3   Name         891 non-null    object \n",
      " 4   Sex          891 non-null    object \n",
      " 5   Age          891 non-null    float64\n",
      " 6   SibSp        891 non-null    int64  \n",
      " 7   Parch        891 non-null    int64  \n",
      " 8   Ticket       891 non-null    object \n",
      " 9   Fare         891 non-null    float64\n",
      " 10  Embarked     891 non-null    object \n",
      "dtypes: float64(2), int64(5), object(4)\n",
      "memory usage: 76.7+ KB\n"
     ]
    },
    {
     "data": {
      "text/plain": [
       "(None,\n",
       " PassengerId    0\n",
       " Survived       0\n",
       " Pclass         0\n",
       " Name           0\n",
       " Sex            0\n",
       " Age            0\n",
       " SibSp          0\n",
       " Parch          0\n",
       " Ticket         0\n",
       " Fare           0\n",
       " Embarked       0\n",
       " dtype: int64)"
      ]
     },
     "execution_count": 11,
     "metadata": {},
     "output_type": "execute_result"
    }
   ],
   "source": [
    "# display the summary information of the titanic_df DataFrame and count the number of missing values in each column after imputing missing values:\n",
    "titanic_df.info(), titanic_df.isnull().sum()"
   ]
  },
  {
   "cell_type": "code",
   "execution_count": 12,
   "id": "d1ed1d9f",
   "metadata": {},
   "outputs": [
    {
     "name": "stderr",
     "output_type": "stream",
     "text": [
      "C:\\Users\\niraj\\anaconda3\\lib\\site-packages\\seaborn\\distributions.py:2557: FutureWarning: `distplot` is a deprecated function and will be removed in a future version. Please adapt your code to use either `displot` (a figure-level function with similar flexibility) or `histplot` (an axes-level function for histograms).\n",
      "  warnings.warn(msg, FutureWarning)\n"
     ]
    },
    {
     "data": {
      "text/plain": [
       "<AxesSubplot:xlabel='Age', ylabel='Density'>"
      ]
     },
     "execution_count": 12,
     "metadata": {},
     "output_type": "execute_result"
    },
    {
     "data": {
      "image/png": "[encoded data removed]",
      "text/plain": [
       "<Figure size 432x288 with 1 Axes>"
      ]
     },
     "metadata": {
      "needs_background": "light"
     },
     "output_type": "display_data"
    }
   ],
   "source": [
    "# create a distribution plot of the 'Age' column of the titanic_df DataFrame using seaborn:\n",
    "sns.distplot(titanic_df['Age'])"
   ]
  },
  {
   "cell_type": "code",
   "execution_count": 13,
   "id": "32b34662",
   "metadata": {},
   "outputs": [
    {
     "data": {
      "text/html": [
       "<div>\n",
       "<style scoped>\n",
       "    .dataframe tbody tr th:only-of-type {\n",
       "        vertical-align: middle;\n",
       "    }\n",
       "\n",
       "    .dataframe tbody tr th {\n",
       "        vertical-align: top;\n",
       "    }\n",
       "\n",
       "    .dataframe thead th {\n",
       "        text-align: right;\n",
       "    }\n",
       "</style>\n",
       "<table border=\"1\" class=\"dataframe\">\n",
       "  <thead>\n",
       "    <tr style=\"text-align: right;\">\n",
       "      <th></th>\n",
       "      <th>PassengerId</th>\n",
       "      <th>Survived</th>\n",
       "      <th>Pclass</th>\n",
       "      <th>Age</th>\n",
       "      <th>SibSp</th>\n",
       "      <th>Parch</th>\n",
       "      <th>Fare</th>\n",
       "    </tr>\n",
       "  </thead>\n",
       "  <tbody>\n",
       "    <tr>\n",
       "      <th>count</th>\n",
       "      <td>891.000000</td>\n",
       "      <td>891.000000</td>\n",
       "      <td>891.000000</td>\n",
       "      <td>891.000000</td>\n",
       "      <td>891.000000</td>\n",
       "      <td>891.000000</td>\n",
       "      <td>891.000000</td>\n",
       "    </tr>\n",
       "    <tr>\n",
       "      <th>mean</th>\n",
       "      <td>446.000000</td>\n",
       "      <td>0.383838</td>\n",
       "      <td>2.308642</td>\n",
       "      <td>29.699118</td>\n",
       "      <td>0.523008</td>\n",
       "      <td>0.381594</td>\n",
       "      <td>32.204208</td>\n",
       "    </tr>\n",
       "    <tr>\n",
       "      <th>std</th>\n",
       "      <td>257.353842</td>\n",
       "      <td>0.486592</td>\n",
       "      <td>0.836071</td>\n",
       "      <td>13.002015</td>\n",
       "      <td>1.102743</td>\n",
       "      <td>0.806057</td>\n",
       "      <td>49.693429</td>\n",
       "    </tr>\n",
       "    <tr>\n",
       "      <th>min</th>\n",
       "      <td>1.000000</td>\n",
       "      <td>0.000000</td>\n",
       "      <td>1.000000</td>\n",
       "      <td>0.420000</td>\n",
       "      <td>0.000000</td>\n",
       "      <td>0.000000</td>\n",
       "      <td>0.000000</td>\n",
       "    </tr>\n",
       "    <tr>\n",
       "      <th>25%</th>\n",
       "      <td>223.500000</td>\n",
       "      <td>0.000000</td>\n",
       "      <td>2.000000</td>\n",
       "      <td>22.000000</td>\n",
       "      <td>0.000000</td>\n",
       "      <td>0.000000</td>\n",
       "      <td>7.910400</td>\n",
       "    </tr>\n",
       "    <tr>\n",
       "      <th>50%</th>\n",
       "      <td>446.000000</td>\n",
       "      <td>0.000000</td>\n",
       "      <td>3.000000</td>\n",
       "      <td>29.699118</td>\n",
       "      <td>0.000000</td>\n",
       "      <td>0.000000</td>\n",
       "      <td>14.454200</td>\n",
       "    </tr>\n",
       "    <tr>\n",
       "      <th>75%</th>\n",
       "      <td>668.500000</td>\n",
       "      <td>1.000000</td>\n",
       "      <td>3.000000</td>\n",
       "      <td>35.000000</td>\n",
       "      <td>1.000000</td>\n",
       "      <td>0.000000</td>\n",
       "      <td>31.000000</td>\n",
       "    </tr>\n",
       "    <tr>\n",
       "      <th>max</th>\n",
       "      <td>891.000000</td>\n",
       "      <td>1.000000</td>\n",
       "      <td>3.000000</td>\n",
       "      <td>80.000000</td>\n",
       "      <td>8.000000</td>\n",
       "      <td>6.000000</td>\n",
       "      <td>512.329200</td>\n",
       "    </tr>\n",
       "  </tbody>\n",
       "</table>\n",
       "</div>"
      ],
      "text/plain": [
       "       PassengerId    Survived      Pclass         Age       SibSp  \\\n",
       "count   891.000000  891.000000  891.000000  891.000000  891.000000   \n",
       "mean    446.000000    0.383838    2.308642   29.699118    0.523008   \n",
       "std     257.353842    0.486592    0.836071   13.002015    1.102743   \n",
       "min       1.000000    0.000000    1.000000    0.420000    0.000000   \n",
       "25%     223.500000    0.000000    2.000000   22.000000    0.000000   \n",
       "50%     446.000000    0.000000    3.000000   29.699118    0.000000   \n",
       "75%     668.500000    1.000000    3.000000   35.000000    1.000000   \n",
       "max     891.000000    1.000000    3.000000   80.000000    8.000000   \n",
       "\n",
       "            Parch        Fare  \n",
       "count  891.000000  891.000000  \n",
       "mean     0.381594   32.204208  \n",
       "std      0.806057   49.693429  \n",
       "min      0.000000    0.000000  \n",
       "25%      0.000000    7.910400  \n",
       "50%      0.000000   14.454200  \n",
       "75%      0.000000   31.000000  \n",
       "max      6.000000  512.329200  "
      ]
     },
     "execution_count": 13,
     "metadata": {},
     "output_type": "execute_result"
    }
   ],
   "source": [
    "# display the summary statistics for the titanic_df DataFrame:\n",
    "titanic_df.describe()"
   ]
  },
  {
   "cell_type": "code",
   "execution_count": 14,
   "id": "af660535",
   "metadata": {},
   "outputs": [
    {
     "data": {
      "image/png": "[encoded data removed]",
      "text/plain": [
       "<Figure size 1080x720 with 2 Axes>"
      ]
     },
     "metadata": {
      "needs_background": "light"
     },
     "output_type": "display_data"
    }
   ],
   "source": [
    "# Create a figure and three subplots for each boxplot\n",
    "fig, (ax1, ax2) = plt.subplots(ncols=2, figsize=(15,10))\n",
    "\n",
    "# Create the first boxplot for total_sqft\n",
    "ax1.boxplot(titanic_df['Age'])\n",
    "ax1.set_title('Age 1')\n",
    "\n",
    "# Create the second boxplot for bath \n",
    "ax2.boxplot(titanic_df['Fare'])\n",
    "ax2.set_title('Fare')\n",
    "\n",
    "# Show the plot\n",
    "plt.show()\n"
   ]
  },
  {
   "cell_type": "markdown",
   "id": "fec13aab",
   "metadata": {},
   "source": [
    "#### The function remove_outliers_quartile() takes two arguments, the dataset titanic_df and the column name 'Age'. It first calculates the first quartile (q1), third quartile (q3), and interquartile range (iqr) of the 'Age' column using the quantile() function. Then it calculates the lower and upper limits for outlier detection as lower_limit and upper_limit. Finally, it filters the dataset using boolean indexing based on the calculated limits and returns the filtered dataset as df_filtered."
   ]
  },
  {
   "cell_type": "code",
   "execution_count": 15,
   "id": "b3ef90b8",
   "metadata": {},
   "outputs": [],
   "source": [
    "#removing the ouliers by inter-quartile range method \n",
    "def remove_outliers_quartile(titanic_df, Age):\n",
    "    q1 = titanic_df[Age].quantile(0.25)\n",
    "    q3 = titanic_df[Age].quantile(0.75)\n",
    "    iqr = q3 - q1\n",
    "    lower_limit = q1 - 1.5 * iqr\n",
    "    upper_limit = q3 + 1.5 * iqr\n",
    "    df_filtered = titanic_df[(titanic_df[Age] > lower_limit) & (titanic_df[Age] < upper_limit)]\n",
    "    return df_filtered\n",
    "titanic_df1 = remove_outliers_quartile(titanic_df, 'Age')"
   ]
  },
  {
   "cell_type": "code",
   "execution_count": 16,
   "id": "90cb79f9",
   "metadata": {},
   "outputs": [
    {
     "data": {
      "image/png": "[encoded data removed]",
      "text/plain": [
       "<Figure size 1080x720 with 2 Axes>"
      ]
     },
     "metadata": {
      "needs_background": "light"
     },
     "output_type": "display_data"
    }
   ],
   "source": [
    "# Create a figure and three subplots for each boxplot\n",
    "fig, (ax1, ax2) = plt.subplots(ncols=2, figsize=(15,10))\n",
    "\n",
    "# Create the first boxplot for total_sqft\n",
    "ax1.boxplot(titanic_df1['Age'])\n",
    "ax1.set_title('Age 1')\n",
    "\n",
    "# Create the second boxplot for bath \n",
    "ax2.boxplot(titanic_df1['Fare'])\n",
    "ax2.set_title('Fare')\n",
    "\n",
    "# Show the plot\n",
    "plt.show()\n"
   ]
  },
  {
   "cell_type": "code",
   "execution_count": 17,
   "id": "4f20c363",
   "metadata": {},
   "outputs": [],
   "source": [
    "# removing outliers by applying inter-quartile range method\n",
    "def remove_outliers_quartile(titanic_df, Fare):\n",
    "    q1 = titanic_df[Fare].quantile(0.25)\n",
    "    q3 = titanic_df[Fare].quantile(0.75)\n",
    "    iqr = q3 - q1\n",
    "    lower_limit = q1 - 1.5 * iqr\n",
    "    upper_limit = q3 + 1.5 * iqr\n",
    "    df_filtered = titanic_df[(titanic_df[Fare] > lower_limit) & (titanic_df[Fare] < upper_limit)]\n",
    "    return df_filtered\n",
    "titanic_df2 = remove_outliers_quartile(titanic_df, 'Fare')"
   ]
  },
  {
   "cell_type": "code",
   "execution_count": 18,
   "id": "80d8c279",
   "metadata": {},
   "outputs": [
    {
     "data": {
      "image/png": "[encoded data removed]",
      "text/plain": [
       "<Figure size 1080x720 with 2 Axes>"
      ]
     },
     "metadata": {
      "needs_background": "light"
     },
     "output_type": "display_data"
    }
   ],
   "source": [
    "# Create a figure and two subplots for each boxplot\n",
    "fig, (ax1, ax2) = plt.subplots(ncols=2, figsize=(15,10))\n",
    "\n",
    "# Create the first boxplot for total_sqft\n",
    "ax1.boxplot(titanic_df1['Age'])\n",
    "ax1.set_title('Age 1')\n",
    "\n",
    "# Create the second boxplot for bath \n",
    "ax2.boxplot(titanic_df2['Fare'])\n",
    "ax2.set_title('Fare')\n",
    "\n",
    "# Show the plot\n",
    "plt.show()\n"
   ]
  },
  {
   "cell_type": "code",
   "execution_count": 19,
   "id": "bca718d9",
   "metadata": {},
   "outputs": [
    {
     "data": {
      "text/plain": [
       "(775, 11)"
      ]
     },
     "execution_count": 19,
     "metadata": {},
     "output_type": "execute_result"
    }
   ],
   "source": [
    "titanic_df2.shape"
   ]
  },
  {
   "cell_type": "code",
   "execution_count": 20,
   "id": "6babd6e9",
   "metadata": {},
   "outputs": [
    {
     "data": {
      "text/plain": [
       "0    512\n",
       "1    263\n",
       "Name: Survived, dtype: int64"
      ]
     },
     "execution_count": 20,
     "metadata": {},
     "output_type": "execute_result"
    }
   ],
   "source": [
    "titanic_df2['Survived'].value_counts()"
   ]
  },
  {
   "cell_type": "code",
   "execution_count": 21,
   "id": "29b14953",
   "metadata": {},
   "outputs": [
    {
     "data": {
      "text/plain": [
       "0    549\n",
       "1    342\n",
       "Name: Survived, dtype: int64"
      ]
     },
     "execution_count": 21,
     "metadata": {},
     "output_type": "execute_result"
    }
   ],
   "source": [
    "# count the number of survivors and non-survivors in the titanic_df DataFrame:\n",
    "titanic_df['Survived'].value_counts()"
   ]
  },
  {
   "cell_type": "code",
   "execution_count": 22,
   "id": "b3c291b1",
   "metadata": {},
   "outputs": [
    {
     "name": "stderr",
     "output_type": "stream",
     "text": [
      "C:\\Users\\niraj\\anaconda3\\lib\\site-packages\\seaborn\\_decorators.py:36: FutureWarning: Pass the following variable as a keyword arg: x. From version 0.12, the only valid positional argument will be `data`, and passing other arguments without an explicit keyword will result in an error or misinterpretation.\n",
      "  warnings.warn(\n"
     ]
    },
    {
     "data": {
      "text/plain": [
       "<AxesSubplot:xlabel='Survived', ylabel='count'>"
      ]
     },
     "execution_count": 22,
     "metadata": {},
     "output_type": "execute_result"
    },
    {
     "data": {
      "image/png": "[encoded data removed]",
      "text/plain": [
       "<Figure size 432x288 with 1 Axes>"
      ]
     },
     "metadata": {
      "needs_background": "light"
     },
     "output_type": "display_data"
    }
   ],
   "source": [
    "# create a count plot of the 'Survived' column of the titanic_df DataFrame using seaborn:\n",
    "sns.countplot('Survived', data=titanic_df)"
   ]
  },
  {
   "cell_type": "code",
   "execution_count": 23,
   "id": "e1e3cb1f",
   "metadata": {},
   "outputs": [
    {
     "name": "stderr",
     "output_type": "stream",
     "text": [
      "C:\\Users\\niraj\\anaconda3\\lib\\site-packages\\seaborn\\_decorators.py:36: FutureWarning: Pass the following variable as a keyword arg: x. From version 0.12, the only valid positional argument will be `data`, and passing other arguments without an explicit keyword will result in an error or misinterpretation.\n",
      "  warnings.warn(\n"
     ]
    },
    {
     "data": {
      "text/plain": [
       "<AxesSubplot:xlabel='Sex', ylabel='count'>"
      ]
     },
     "execution_count": 23,
     "metadata": {},
     "output_type": "execute_result"
    },
    {
     "data": {
      "image/png": "[encoded data removed]",
      "text/plain": [
       "<Figure size 432x288 with 1 Axes>"
      ]
     },
     "metadata": {
      "needs_background": "light"
     },
     "output_type": "display_data"
    }
   ],
   "source": [
    "# create a count plot of the 'Sex' column of the titanic_df DataFrame using seaborn:\n",
    "sns.countplot('Sex', data=titanic_df)"
   ]
  },
  {
   "cell_type": "code",
   "execution_count": 24,
   "id": "cf0d99a1",
   "metadata": {},
   "outputs": [
    {
     "name": "stderr",
     "output_type": "stream",
     "text": [
      "C:\\Users\\niraj\\anaconda3\\lib\\site-packages\\seaborn\\_decorators.py:36: FutureWarning: Pass the following variable as a keyword arg: x. From version 0.12, the only valid positional argument will be `data`, and passing other arguments without an explicit keyword will result in an error or misinterpretation.\n",
      "  warnings.warn(\n"
     ]
    },
    {
     "data": {
      "text/plain": [
       "<AxesSubplot:xlabel='Sex', ylabel='count'>"
      ]
     },
     "execution_count": 24,
     "metadata": {},
     "output_type": "execute_result"
    },
    {
     "data": {
      "image/png": "[encoded data removed]",
      "text/plain": [
       "<Figure size 432x288 with 1 Axes>"
      ]
     },
     "metadata": {
      "needs_background": "light"
     },
     "output_type": "display_data"
    }
   ],
   "source": [
    "#  create a count plot of the 'Survived' column of the titanic_df DataFrame grouped by the 'Sex' column:\n",
    "sns.countplot('Sex', hue='Survived', data=titanic_df)"
   ]
  },
  {
   "cell_type": "code",
   "execution_count": 25,
   "id": "8d41594a",
   "metadata": {},
   "outputs": [
    {
     "name": "stderr",
     "output_type": "stream",
     "text": [
      "C:\\Users\\niraj\\anaconda3\\lib\\site-packages\\seaborn\\_decorators.py:36: FutureWarning: Pass the following variable as a keyword arg: x. From version 0.12, the only valid positional argument will be `data`, and passing other arguments without an explicit keyword will result in an error or misinterpretation.\n",
      "  warnings.warn(\n"
     ]
    },
    {
     "data": {
      "text/plain": [
       "<AxesSubplot:xlabel='Pclass', ylabel='count'>"
      ]
     },
     "execution_count": 25,
     "metadata": {},
     "output_type": "execute_result"
    },
    {
     "data": {
      "image/png": "[encoded data removed]",
      "text/plain": [
       "<Figure size 432x288 with 1 Axes>"
      ]
     },
     "metadata": {
      "needs_background": "light"
     },
     "output_type": "display_data"
    }
   ],
   "source": [
    "# create a count plot of the 'Pclass' column of the titanic_df DataFrame using seaborn:\n",
    "sns.countplot('Pclass', data=titanic_df)"
   ]
  },
  {
   "cell_type": "code",
   "execution_count": 26,
   "id": "eec69b2b",
   "metadata": {},
   "outputs": [
    {
     "name": "stderr",
     "output_type": "stream",
     "text": [
      "C:\\Users\\niraj\\anaconda3\\lib\\site-packages\\seaborn\\_decorators.py:36: FutureWarning: Pass the following variable as a keyword arg: x. From version 0.12, the only valid positional argument will be `data`, and passing other arguments without an explicit keyword will result in an error or misinterpretation.\n",
      "  warnings.warn(\n"
     ]
    },
    {
     "data": {
      "text/plain": [
       "<AxesSubplot:xlabel='Sex', ylabel='count'>"
      ]
     },
     "execution_count": 26,
     "metadata": {},
     "output_type": "execute_result"
    },
    {
     "data": {
      "image/png": "[encoded data removed]",
      "text/plain": [
       "<Figure size 432x288 with 1 Axes>"
      ]
     },
     "metadata": {
      "needs_background": "light"
     },
     "output_type": "display_data"
    }
   ],
   "source": [
    "# create a count plot of the 'Pclass' column of the titanic_df DataFrame grouped by the 'Sex' column:\n",
    "sns.countplot('Sex', hue='Pclass', data=titanic_df)"
   ]
  },
  {
   "cell_type": "code",
   "execution_count": 27,
   "id": "825c9620",
   "metadata": {},
   "outputs": [
    {
     "name": "stderr",
     "output_type": "stream",
     "text": [
      "C:\\Users\\niraj\\anaconda3\\lib\\site-packages\\seaborn\\_decorators.py:36: FutureWarning: Pass the following variable as a keyword arg: x. From version 0.12, the only valid positional argument will be `data`, and passing other arguments without an explicit keyword will result in an error or misinterpretation.\n",
      "  warnings.warn(\n"
     ]
    },
    {
     "data": {
      "text/plain": [
       "<AxesSubplot:xlabel='Pclass', ylabel='count'>"
      ]
     },
     "execution_count": 27,
     "metadata": {},
     "output_type": "execute_result"
    },
    {
     "data": {
      "image/png": "[encoded data removed]",
      "text/plain": [
       "<Figure size 432x288 with 1 Axes>"
      ]
     },
     "metadata": {
      "needs_background": "light"
     },
     "output_type": "display_data"
    }
   ],
   "source": [
    "# # create a count plot of the 'Sex' column of the titanic_df DataFrame grouped by the 'Pclass' column:\n",
    "sns.countplot('Pclass', hue='Sex', data=titanic_df)"
   ]
  },
  {
   "cell_type": "code",
   "execution_count": 67,
   "id": "e7beed6f",
   "metadata": {},
   "outputs": [
    {
     "data": {
      "text/plain": [
       "<seaborn.axisgrid.JointGrid at 0x1ea91036fa0>"
      ]
     },
     "execution_count": 67,
     "metadata": {},
     "output_type": "execute_result"
    },
    {
     "data": {
      "image/png": "[encoded data removed]",
      "text/plain": [
       "<Figure size 432x432 with 3 Axes>"
      ]
     },
     "metadata": {
      "needs_background": "light"
     },
     "output_type": "display_data"
    }
   ],
   "source": [
    "# visualize the relationship between the \"Age\" and \"Fare\" variables in the \"titanic_df\" dataset.\n",
    "sns.jointplot(x='Age',y='Fare',data=titanic_df,kind='reg')"
   ]
  },
  {
   "cell_type": "code",
   "execution_count": 28,
   "id": "de45e9c2",
   "metadata": {},
   "outputs": [
    {
     "data": {
      "text/plain": [
       "male      577\n",
       "female    314\n",
       "Name: Sex, dtype: int64"
      ]
     },
     "execution_count": 28,
     "metadata": {},
     "output_type": "execute_result"
    }
   ],
   "source": [
    "#encoding categorical column into numeric\n",
    "titanic_df['Sex'].value_counts()"
   ]
  },
  {
   "cell_type": "code",
   "execution_count": 29,
   "id": "ccddc0fe",
   "metadata": {},
   "outputs": [
    {
     "data": {
      "text/plain": [
       "(S                    644\n",
       " C                    168\n",
       " Q                     77\n",
       " 29.69911764705882      2\n",
       " Name: Embarked, dtype: int64,\n",
       " (891,))"
      ]
     },
     "execution_count": 29,
     "metadata": {},
     "output_type": "execute_result"
    }
   ],
   "source": [
    "titanic_df['Embarked'].value_counts(),titanic_df['Embarked'].shape"
   ]
  },
  {
   "cell_type": "code",
   "execution_count": 30,
   "id": "96c85b26",
   "metadata": {},
   "outputs": [
    {
     "data": {
      "text/plain": [
       "<bound method Series.count of 0      S\n",
       "1      C\n",
       "2      S\n",
       "3      S\n",
       "4      S\n",
       "      ..\n",
       "886    S\n",
       "887    S\n",
       "888    S\n",
       "889    C\n",
       "890    Q\n",
       "Name: Embarked, Length: 891, dtype: object>"
      ]
     },
     "execution_count": 30,
     "metadata": {},
     "output_type": "execute_result"
    }
   ],
   "source": [
    "titanic_df['Embarked'].count"
   ]
  },
  {
   "cell_type": "code",
   "execution_count": 31,
   "id": "b8e12bed",
   "metadata": {},
   "outputs": [],
   "source": [
    "# replacing the string values 'male' and 'female' in the 'Sex' column with 0 and 1 respectively, and replacing the string values 'S', 'C', and 'Q' in the 'Embarked' column with 0, 1, and 2 respectively\n",
    "titanic_df.replace({'Sex':{'male':0, 'female':1}, 'Embarked':{'S':0,'C':1,'Q':2}}, inplace=True)"
   ]
  },
  {
   "cell_type": "code",
   "execution_count": 32,
   "id": "43eaa5ff",
   "metadata": {},
   "outputs": [
    {
     "data": {
      "text/html": [
       "<div>\n",
       "<style scoped>\n",
       "    .dataframe tbody tr th:only-of-type {\n",
       "        vertical-align: middle;\n",
       "    }\n",
       "\n",
       "    .dataframe tbody tr th {\n",
       "        vertical-align: top;\n",
       "    }\n",
       "\n",
       "    .dataframe thead th {\n",
       "        text-align: right;\n",
       "    }\n",
       "</style>\n",
       "<table border=\"1\" class=\"dataframe\">\n",
       "  <thead>\n",
       "    <tr style=\"text-align: right;\">\n",
       "      <th></th>\n",
       "      <th>PassengerId</th>\n",
       "      <th>Survived</th>\n",
       "      <th>Pclass</th>\n",
       "      <th>Name</th>\n",
       "      <th>Sex</th>\n",
       "      <th>Age</th>\n",
       "      <th>SibSp</th>\n",
       "      <th>Parch</th>\n",
       "      <th>Ticket</th>\n",
       "      <th>Fare</th>\n",
       "      <th>Embarked</th>\n",
       "    </tr>\n",
       "  </thead>\n",
       "  <tbody>\n",
       "    <tr>\n",
       "      <th>0</th>\n",
       "      <td>1</td>\n",
       "      <td>0</td>\n",
       "      <td>3</td>\n",
       "      <td>Braund, Mr. Owen Harris</td>\n",
       "      <td>0</td>\n",
       "      <td>22.0</td>\n",
       "      <td>1</td>\n",
       "      <td>0</td>\n",
       "      <td>A/5 21171</td>\n",
       "      <td>7.2500</td>\n",
       "      <td>0.0</td>\n",
       "    </tr>\n",
       "    <tr>\n",
       "      <th>1</th>\n",
       "      <td>2</td>\n",
       "      <td>1</td>\n",
       "      <td>1</td>\n",
       "      <td>Cumings, Mrs. John Bradley (Florence Briggs Th...</td>\n",
       "      <td>1</td>\n",
       "      <td>38.0</td>\n",
       "      <td>1</td>\n",
       "      <td>0</td>\n",
       "      <td>PC 17599</td>\n",
       "      <td>71.2833</td>\n",
       "      <td>1.0</td>\n",
       "    </tr>\n",
       "    <tr>\n",
       "      <th>2</th>\n",
       "      <td>3</td>\n",
       "      <td>1</td>\n",
       "      <td>3</td>\n",
       "      <td>Heikkinen, Miss. Laina</td>\n",
       "      <td>1</td>\n",
       "      <td>26.0</td>\n",
       "      <td>0</td>\n",
       "      <td>0</td>\n",
       "      <td>STON/O2. 3101282</td>\n",
       "      <td>7.9250</td>\n",
       "      <td>0.0</td>\n",
       "    </tr>\n",
       "    <tr>\n",
       "      <th>3</th>\n",
       "      <td>4</td>\n",
       "      <td>1</td>\n",
       "      <td>1</td>\n",
       "      <td>Futrelle, Mrs. Jacques Heath (Lily May Peel)</td>\n",
       "      <td>1</td>\n",
       "      <td>35.0</td>\n",
       "      <td>1</td>\n",
       "      <td>0</td>\n",
       "      <td>113803</td>\n",
       "      <td>53.1000</td>\n",
       "      <td>0.0</td>\n",
       "    </tr>\n",
       "    <tr>\n",
       "      <th>4</th>\n",
       "      <td>5</td>\n",
       "      <td>0</td>\n",
       "      <td>3</td>\n",
       "      <td>Allen, Mr. William Henry</td>\n",
       "      <td>0</td>\n",
       "      <td>35.0</td>\n",
       "      <td>0</td>\n",
       "      <td>0</td>\n",
       "      <td>373450</td>\n",
       "      <td>8.0500</td>\n",
       "      <td>0.0</td>\n",
       "    </tr>\n",
       "  </tbody>\n",
       "</table>\n",
       "</div>"
      ],
      "text/plain": [
       "   PassengerId  Survived  Pclass  \\\n",
       "0            1         0       3   \n",
       "1            2         1       1   \n",
       "2            3         1       3   \n",
       "3            4         1       1   \n",
       "4            5         0       3   \n",
       "\n",
       "                                                Name  Sex   Age  SibSp  Parch  \\\n",
       "0                            Braund, Mr. Owen Harris    0  22.0      1      0   \n",
       "1  Cumings, Mrs. John Bradley (Florence Briggs Th...    1  38.0      1      0   \n",
       "2                             Heikkinen, Miss. Laina    1  26.0      0      0   \n",
       "3       Futrelle, Mrs. Jacques Heath (Lily May Peel)    1  35.0      1      0   \n",
       "4                           Allen, Mr. William Henry    0  35.0      0      0   \n",
       "\n",
       "             Ticket     Fare  Embarked  \n",
       "0         A/5 21171   7.2500       0.0  \n",
       "1          PC 17599  71.2833       1.0  \n",
       "2  STON/O2. 3101282   7.9250       0.0  \n",
       "3            113803  53.1000       0.0  \n",
       "4            373450   8.0500       0.0  "
      ]
     },
     "execution_count": 32,
     "metadata": {},
     "output_type": "execute_result"
    }
   ],
   "source": [
    "# After using the replace() method to convert the 'Sex' and 'Embarked' columns to numeric values, you can use the head() method to display the first few rows of the updated DataFrame.\n",
    "titanic_df.head()"
   ]
  },
  {
   "cell_type": "code",
   "execution_count": 33,
   "id": "7dbdd6ac",
   "metadata": {},
   "outputs": [
    {
     "data": {
      "text/html": [
       "<div>\n",
       "<style scoped>\n",
       "    .dataframe tbody tr th:only-of-type {\n",
       "        vertical-align: middle;\n",
       "    }\n",
       "\n",
       "    .dataframe tbody tr th {\n",
       "        vertical-align: top;\n",
       "    }\n",
       "\n",
       "    .dataframe thead th {\n",
       "        text-align: right;\n",
       "    }\n",
       "</style>\n",
       "<table border=\"1\" class=\"dataframe\">\n",
       "  <thead>\n",
       "    <tr style=\"text-align: right;\">\n",
       "      <th></th>\n",
       "      <th>PassengerId</th>\n",
       "      <th>Survived</th>\n",
       "      <th>Pclass</th>\n",
       "      <th>Name</th>\n",
       "      <th>Sex</th>\n",
       "      <th>Age</th>\n",
       "      <th>SibSp</th>\n",
       "      <th>Parch</th>\n",
       "      <th>Ticket</th>\n",
       "      <th>Fare</th>\n",
       "      <th>Embarked</th>\n",
       "    </tr>\n",
       "  </thead>\n",
       "  <tbody>\n",
       "    <tr>\n",
       "      <th>0</th>\n",
       "      <td>1</td>\n",
       "      <td>0</td>\n",
       "      <td>3</td>\n",
       "      <td>Braund, Mr. Owen Harris</td>\n",
       "      <td>male</td>\n",
       "      <td>22.000000</td>\n",
       "      <td>1</td>\n",
       "      <td>0</td>\n",
       "      <td>A/5 21171</td>\n",
       "      <td>7.2500</td>\n",
       "      <td>S</td>\n",
       "    </tr>\n",
       "    <tr>\n",
       "      <th>2</th>\n",
       "      <td>3</td>\n",
       "      <td>1</td>\n",
       "      <td>3</td>\n",
       "      <td>Heikkinen, Miss. Laina</td>\n",
       "      <td>female</td>\n",
       "      <td>26.000000</td>\n",
       "      <td>0</td>\n",
       "      <td>0</td>\n",
       "      <td>STON/O2. 3101282</td>\n",
       "      <td>7.9250</td>\n",
       "      <td>S</td>\n",
       "    </tr>\n",
       "    <tr>\n",
       "      <th>3</th>\n",
       "      <td>4</td>\n",
       "      <td>1</td>\n",
       "      <td>1</td>\n",
       "      <td>Futrelle, Mrs. Jacques Heath (Lily May Peel)</td>\n",
       "      <td>female</td>\n",
       "      <td>35.000000</td>\n",
       "      <td>1</td>\n",
       "      <td>0</td>\n",
       "      <td>113803</td>\n",
       "      <td>53.1000</td>\n",
       "      <td>S</td>\n",
       "    </tr>\n",
       "    <tr>\n",
       "      <th>4</th>\n",
       "      <td>5</td>\n",
       "      <td>0</td>\n",
       "      <td>3</td>\n",
       "      <td>Allen, Mr. William Henry</td>\n",
       "      <td>male</td>\n",
       "      <td>35.000000</td>\n",
       "      <td>0</td>\n",
       "      <td>0</td>\n",
       "      <td>373450</td>\n",
       "      <td>8.0500</td>\n",
       "      <td>S</td>\n",
       "    </tr>\n",
       "    <tr>\n",
       "      <th>5</th>\n",
       "      <td>6</td>\n",
       "      <td>0</td>\n",
       "      <td>3</td>\n",
       "      <td>Moran, Mr. James</td>\n",
       "      <td>male</td>\n",
       "      <td>29.699118</td>\n",
       "      <td>0</td>\n",
       "      <td>0</td>\n",
       "      <td>330877</td>\n",
       "      <td>8.4583</td>\n",
       "      <td>Q</td>\n",
       "    </tr>\n",
       "  </tbody>\n",
       "</table>\n",
       "</div>"
      ],
      "text/plain": [
       "   PassengerId  Survived  Pclass  \\\n",
       "0            1         0       3   \n",
       "2            3         1       3   \n",
       "3            4         1       1   \n",
       "4            5         0       3   \n",
       "5            6         0       3   \n",
       "\n",
       "                                           Name     Sex        Age  SibSp  \\\n",
       "0                       Braund, Mr. Owen Harris    male  22.000000      1   \n",
       "2                        Heikkinen, Miss. Laina  female  26.000000      0   \n",
       "3  Futrelle, Mrs. Jacques Heath (Lily May Peel)  female  35.000000      1   \n",
       "4                      Allen, Mr. William Henry    male  35.000000      0   \n",
       "5                              Moran, Mr. James    male  29.699118      0   \n",
       "\n",
       "   Parch            Ticket     Fare Embarked  \n",
       "0      0         A/5 21171   7.2500        S  \n",
       "2      0  STON/O2. 3101282   7.9250        S  \n",
       "3      0            113803  53.1000        S  \n",
       "4      0            373450   8.0500        S  \n",
       "5      0            330877   8.4583        Q  "
      ]
     },
     "execution_count": 33,
     "metadata": {},
     "output_type": "execute_result"
    }
   ],
   "source": [
    "titanic_df2.head()"
   ]
  },
  {
   "cell_type": "code",
   "execution_count": 34,
   "id": "c1157ff4",
   "metadata": {},
   "outputs": [],
   "source": [
    "x = titanic_df.drop(columns=['Name','PassengerId','Ticket','Survived'], axis=1)\n",
    "y = titanic_df['Survived']"
   ]
  },
  {
   "cell_type": "markdown",
   "id": "cef401c0",
   "metadata": {},
   "source": [
    "#### 'x' DataFrame contains all the independent variables or features except 'Name', 'PassengerId', 'Ticket', and 'Survived' columns. These four columns are being dropped from the titanic_df DataFrame using the drop() method with the columns parameter set to a list of column names to be dropped.\n",
    "\n",
    "#### 'y' DataFrame contains the dependent variable or target variable, which is the 'Survived' column of the titanic_df DataFrame. Here is the Python code to create the x and y DataFrames:"
   ]
  },
  {
   "cell_type": "code",
   "execution_count": 35,
   "id": "a6f6e804",
   "metadata": {},
   "outputs": [],
   "source": [
    "# importing some functions from scikit-learn (sklearn) library and then using them to split the data into training and testing sets.\n",
    "from sklearn.model_selection import train_test_split\n",
    "from sklearn.linear_model import LogisticRegression\n",
    "from sklearn.model_selection import cross_val_score\n",
    "from sklearn import metrics\n",
    "x_train,x_test,y_train,y_test = train_test_split(x, y, test_size=0.20, random_state=2)"
   ]
  },
  {
   "cell_type": "code",
   "execution_count": 36,
   "id": "20e5ae41",
   "metadata": {},
   "outputs": [
    {
     "data": {
      "text/plain": [
       "(712, 7)"
      ]
     },
     "execution_count": 36,
     "metadata": {},
     "output_type": "execute_result"
    }
   ],
   "source": [
    "#  check the shape of the x_train DataFrame:\n",
    "x_train.shape"
   ]
  },
  {
   "cell_type": "code",
   "execution_count": 37,
   "id": "188373cb",
   "metadata": {},
   "outputs": [
    {
     "data": {
      "text/plain": [
       "(179, 7)"
      ]
     },
     "execution_count": 37,
     "metadata": {},
     "output_type": "execute_result"
    }
   ],
   "source": [
    "#  check the shape of the x_test DataFrame:\n",
    "x_test.shape"
   ]
  },
  {
   "cell_type": "code",
   "execution_count": 38,
   "id": "c7982e9a",
   "metadata": {},
   "outputs": [
    {
     "data": {
      "text/plain": [
       "(712,)"
      ]
     },
     "execution_count": 38,
     "metadata": {},
     "output_type": "execute_result"
    }
   ],
   "source": [
    "# check the shape of the y_train DataFrame:\n",
    "y_train.shape"
   ]
  },
  {
   "cell_type": "code",
   "execution_count": 39,
   "id": "09dcc3d7",
   "metadata": {},
   "outputs": [
    {
     "data": {
      "text/plain": [
       "(179,)"
      ]
     },
     "execution_count": 39,
     "metadata": {},
     "output_type": "execute_result"
    }
   ],
   "source": [
    "# check the shape of the y_test DataFrame:\n",
    "y_test.shape"
   ]
  },
  {
   "cell_type": "code",
   "execution_count": 40,
   "id": "bb8eb725",
   "metadata": {},
   "outputs": [],
   "source": [
    "# creating a LogisticRegression object from scikit-learn (sklearn) library.\n",
    "Lr = LogisticRegression()"
   ]
  },
  {
   "cell_type": "code",
   "execution_count": 41,
   "id": "010779f6",
   "metadata": {},
   "outputs": [
    {
     "name": "stderr",
     "output_type": "stream",
     "text": [
      "C:\\Users\\niraj\\anaconda3\\lib\\site-packages\\sklearn\\linear_model\\_logistic.py:763: ConvergenceWarning: lbfgs failed to converge (status=1):\n",
      "STOP: TOTAL NO. of ITERATIONS REACHED LIMIT.\n",
      "\n",
      "Increase the number of iterations (max_iter) or scale the data as shown in:\n",
      "    https://scikit-learn.org/stable/modules/preprocessing.html\n",
      "Please also refer to the documentation for alternative solver options:\n",
      "    https://scikit-learn.org/stable/modules/linear_model.html#logistic-regression\n",
      "  n_iter_i = _check_optimize_result(\n"
     ]
    }
   ],
   "source": [
    "#fit the model using the training data\n",
    "Lr.fit(x_train,y_train)\n",
    "\n",
    "#use model to make predictions on test data\n",
    "x_test_pred = Lr.predict(x_test)\n",
    "x_train_pred = Lr.predict(x_train)"
   ]
  },
  {
   "cell_type": "code",
   "execution_count": 42,
   "id": "cab5aeea",
   "metadata": {},
   "outputs": [],
   "source": [
    "# using the confusion_matrix() function from the metrics module of scikit-learn (sklearn) library to calculate the confusion matrix of the logistic regression model.\n",
    "cnf_matrix = metrics.confusion_matrix(y_test, x_test_pred)\n",
    "cnf_matrix1 = metrics.confusion_matrix(y_train, x_train_pred)"
   ]
  },
  {
   "cell_type": "code",
   "execution_count": 43,
   "id": "4ce82f89",
   "metadata": {},
   "outputs": [
    {
     "data": {
      "text/plain": [
       "(array([[91,  9],\n",
       "        [30, 49]], dtype=int64),\n",
       " array([[391,  58],\n",
       "        [ 78, 185]], dtype=int64))"
      ]
     },
     "execution_count": 43,
     "metadata": {},
     "output_type": "execute_result"
    }
   ],
   "source": [
    "cnf_matrix, cnf_matrix1"
   ]
  },
  {
   "cell_type": "code",
   "execution_count": 44,
   "id": "41f91e64",
   "metadata": {},
   "outputs": [],
   "source": [
    "# lassification report for the logistic regression model using the classification_report() function from the metrics module of scikit-learn (sklearn) library.\n",
    "classification_report = metrics.classification_report(y_test, x_test_pred)\n",
    "classification_report1 =  metrics.classification_report(y_train, x_train_pred)"
   ]
  },
  {
   "cell_type": "code",
   "execution_count": 45,
   "id": "892e28b6",
   "metadata": {},
   "outputs": [
    {
     "data": {
      "text/plain": [
       "('              precision    recall  f1-score   support\\n\\n           0       0.75      0.91      0.82       100\\n           1       0.84      0.62      0.72        79\\n\\n    accuracy                           0.78       179\\n   macro avg       0.80      0.77      0.77       179\\nweighted avg       0.79      0.78      0.78       179\\n',\n",
       " '              precision    recall  f1-score   support\\n\\n           0       0.83      0.87      0.85       449\\n           1       0.76      0.70      0.73       263\\n\\n    accuracy                           0.81       712\\n   macro avg       0.80      0.79      0.79       712\\nweighted avg       0.81      0.81      0.81       712\\n')"
      ]
     },
     "execution_count": 45,
     "metadata": {},
     "output_type": "execute_result"
    }
   ],
   "source": [
    "classification_report, classification_report1"
   ]
  },
  {
   "cell_type": "markdown",
   "id": "e44bf212",
   "metadata": {},
   "source": [
    "#### Both of these are classification reports providing performance metrics for binary classification of titanic dataset. The reports provide the following metrics:\n",
    "\n",
    "#### First report (test dataset):\n",
    "Precision: 0.75 for class 0 and 0.84 for class 1.\n",
    "Recall: 0.91 for class 0 and 0.62 for class 1.\n",
    "F1-score: 0.82 for class 0 and 0.72 for class 1.\n",
    "Support: 100 for class 0 and 79 for class 1.\n",
    "Overall accuracy: 0.78.\n",
    "Macro-average scores for precision, recall, and f1-score: 0.80, 0.77, and 0.77, respectively.\n",
    "Weighted-average scores for precision, recall, and f1-score: 0.79, 0.78, and 0.78, respectively.\n",
    "#### Second report (training dataset):\n",
    "Precision: 0.83 for class 0 and 0.76 for class 1.\n",
    "Recall: 0.87 for class 0 and 0.70 for class 1.\n",
    "F1-score: 0.85 for class 0 and 0.73 for class 1.\n",
    "Support: 449 for class 0 and 263 for class 1.\n",
    "Overall accuracy: 0.81.\n",
    "Macro-average scores for precision, recall, and f1-score: 0.80, 0.79, and 0.79, respectively.\n",
    "Weighted-average scores for precision, recall, and f1-score: 0.81, 0.81, and 0.81, respectively.\n",
    "\n",
    "### In this scenario, the testing accuracy (78%) is slightly lower than the training accuracy (81%). This suggests that the model may be slightly overfitting the training data, meaning that it may not generalize as well to new, unseen data.\n",
    "\n",
    "### However, a difference of only 3% between the training and testing accuracy is not necessarily a cause for concern. It is important to also consider other factors, such as the size and quality of the dataset, the complexity of the model, and the choice of hyperparameters, when evaluating the performance of the model."
   ]
  },
  {
   "cell_type": "code",
   "execution_count": 46,
   "id": "8fa8e036",
   "metadata": {},
   "outputs": [
    {
     "name": "stderr",
     "output_type": "stream",
     "text": [
      "C:\\Users\\niraj\\anaconda3\\lib\\site-packages\\sklearn\\linear_model\\_logistic.py:763: ConvergenceWarning: lbfgs failed to converge (status=1):\n",
      "STOP: TOTAL NO. of ITERATIONS REACHED LIMIT.\n",
      "\n",
      "Increase the number of iterations (max_iter) or scale the data as shown in:\n",
      "    https://scikit-learn.org/stable/modules/preprocessing.html\n",
      "Please also refer to the documentation for alternative solver options:\n",
      "    https://scikit-learn.org/stable/modules/linear_model.html#logistic-regression\n",
      "  n_iter_i = _check_optimize_result(\n",
      "C:\\Users\\niraj\\anaconda3\\lib\\site-packages\\sklearn\\linear_model\\_logistic.py:763: ConvergenceWarning: lbfgs failed to converge (status=1):\n",
      "STOP: TOTAL NO. of ITERATIONS REACHED LIMIT.\n",
      "\n",
      "Increase the number of iterations (max_iter) or scale the data as shown in:\n",
      "    https://scikit-learn.org/stable/modules/preprocessing.html\n",
      "Please also refer to the documentation for alternative solver options:\n",
      "    https://scikit-learn.org/stable/modules/linear_model.html#logistic-regression\n",
      "  n_iter_i = _check_optimize_result(\n",
      "C:\\Users\\niraj\\anaconda3\\lib\\site-packages\\sklearn\\linear_model\\_logistic.py:763: ConvergenceWarning: lbfgs failed to converge (status=1):\n",
      "STOP: TOTAL NO. of ITERATIONS REACHED LIMIT.\n",
      "\n",
      "Increase the number of iterations (max_iter) or scale the data as shown in:\n",
      "    https://scikit-learn.org/stable/modules/preprocessing.html\n",
      "Please also refer to the documentation for alternative solver options:\n",
      "    https://scikit-learn.org/stable/modules/linear_model.html#logistic-regression\n",
      "  n_iter_i = _check_optimize_result(\n"
     ]
    },
    {
     "name": "stdout",
     "output_type": "stream",
     "text": [
      "Cross-validation accuracy: 0.79 (+/- 0.04)\n"
     ]
    }
   ],
   "source": [
    "# Perform 5-fold cross-validation\n",
    "scores = cross_val_score(Lr, x, y, cv=5, scoring='accuracy')\n",
    "\n",
    "# Print average accuracy across all folds\n",
    "print(\"Cross-validation accuracy: %0.2f (+/- %0.2f)\" % (scores.mean(), scores.std() * 2))"
   ]
  },
  {
   "cell_type": "code",
   "execution_count": 47,
   "id": "eb4bc05b",
   "metadata": {},
   "outputs": [
    {
     "name": "stdout",
     "output_type": "stream",
     "text": [
      "Decision Tree accuracy: 0.7821229050279329\n",
      "Random Forest accuracy: 0.8044692737430168\n",
      "SVM accuracy: 0.6368715083798883\n"
     ]
    }
   ],
   "source": [
    "# Import required libraries\n",
    "from sklearn.tree import DecisionTreeClassifier\n",
    "from sklearn.ensemble import RandomForestClassifier\n",
    "from sklearn.svm import SVC\n",
    "\n",
    "# Instantiate classifiers\n",
    "dt = DecisionTreeClassifier()\n",
    "rf = RandomForestClassifier()\n",
    "svm = SVC()\n",
    "\n",
    "# Train the classifiers\n",
    "dt.fit(x_train, y_train)\n",
    "rf.fit(x_train, y_train)\n",
    "svm.fit(x_train, y_train)\n",
    "\n",
    "# Make predictions on the test data\n",
    "dt_pred = dt.predict(x_test)\n",
    "rf_pred = rf.predict(x_test)\n",
    "svm_pred = svm.predict(x_test)\n",
    "\n",
    "# Evaluate the performance of the classifiers\n",
    "dt_score = dt.score(x_test, y_test)\n",
    "rf_score = rf.score(x_test, y_test)\n",
    "svm_score = svm.score(x_test, y_test)\n",
    "\n",
    "# Print the scores\n",
    "print('Decision Tree accuracy:', dt_score)\n",
    "print('Random Forest accuracy:', rf_score)\n",
    "print('SVM accuracy:', svm_score)"
   ]
  },
  {
   "cell_type": "markdown",
   "id": "c24f0f90",
   "metadata": {},
   "source": [
    "### In this evaluation, the random forest classifier achieved the highest accuracy of 0.810, followed by the decision tree classifier with an accuracy of 0.788. The support vector machine (SVM) classifier had a lower accuracy of 0.637."
   ]
  },
  {
   "cell_type": "markdown",
   "id": "27d47e2e",
   "metadata": {},
   "source": [
    "# After removing outliers from the dataset"
   ]
  },
  {
   "cell_type": "code",
   "execution_count": 48,
   "id": "3fc8402a",
   "metadata": {},
   "outputs": [
    {
     "name": "stderr",
     "output_type": "stream",
     "text": [
      "<ipython-input-48-19db6eb8a3f7>:3: SettingWithCopyWarning: \n",
      "A value is trying to be set on a copy of a slice from a DataFrame.\n",
      "Try using .loc[row_indexer,col_indexer] = value instead\n",
      "\n",
      "See the caveats in the documentation: https://pandas.pydata.org/pandas-docs/stable/user_guide/indexing.html#returning-a-view-versus-a-copy\n",
      "  titanic_df2.replace({'Sex':{'male':0, 'female':1}, 'Embarked':{'S':0,'C':1,'Q':2}}, inplace=True)\n"
     ]
    }
   ],
   "source": [
    "# replacing the values in the 'Sex' and 'Embarked' columns with numeric values, so that they can be used as input to a machine learning algorithm. Specifically, it is replacing 'male' with 0, 'female' with 1, 'S' with 0, 'C' with 1, and 'Q' with 2.\n",
    "titanic_df2.head()\n",
    "titanic_df2.replace({'Sex':{'male':0, 'female':1}, 'Embarked':{'S':0,'C':1,'Q':2}}, inplace=True)"
   ]
  },
  {
   "cell_type": "code",
   "execution_count": 49,
   "id": "1b7fa87e",
   "metadata": {},
   "outputs": [
    {
     "data": {
      "text/html": [
       "<div>\n",
       "<style scoped>\n",
       "    .dataframe tbody tr th:only-of-type {\n",
       "        vertical-align: middle;\n",
       "    }\n",
       "\n",
       "    .dataframe tbody tr th {\n",
       "        vertical-align: top;\n",
       "    }\n",
       "\n",
       "    .dataframe thead th {\n",
       "        text-align: right;\n",
       "    }\n",
       "</style>\n",
       "<table border=\"1\" class=\"dataframe\">\n",
       "  <thead>\n",
       "    <tr style=\"text-align: right;\">\n",
       "      <th></th>\n",
       "      <th>PassengerId</th>\n",
       "      <th>Survived</th>\n",
       "      <th>Pclass</th>\n",
       "      <th>Name</th>\n",
       "      <th>Sex</th>\n",
       "      <th>Age</th>\n",
       "      <th>SibSp</th>\n",
       "      <th>Parch</th>\n",
       "      <th>Ticket</th>\n",
       "      <th>Fare</th>\n",
       "      <th>Embarked</th>\n",
       "    </tr>\n",
       "  </thead>\n",
       "  <tbody>\n",
       "    <tr>\n",
       "      <th>0</th>\n",
       "      <td>1</td>\n",
       "      <td>0</td>\n",
       "      <td>3</td>\n",
       "      <td>Braund, Mr. Owen Harris</td>\n",
       "      <td>0</td>\n",
       "      <td>22.000000</td>\n",
       "      <td>1</td>\n",
       "      <td>0</td>\n",
       "      <td>A/5 21171</td>\n",
       "      <td>7.2500</td>\n",
       "      <td>0</td>\n",
       "    </tr>\n",
       "    <tr>\n",
       "      <th>2</th>\n",
       "      <td>3</td>\n",
       "      <td>1</td>\n",
       "      <td>3</td>\n",
       "      <td>Heikkinen, Miss. Laina</td>\n",
       "      <td>1</td>\n",
       "      <td>26.000000</td>\n",
       "      <td>0</td>\n",
       "      <td>0</td>\n",
       "      <td>STON/O2. 3101282</td>\n",
       "      <td>7.9250</td>\n",
       "      <td>0</td>\n",
       "    </tr>\n",
       "    <tr>\n",
       "      <th>3</th>\n",
       "      <td>4</td>\n",
       "      <td>1</td>\n",
       "      <td>1</td>\n",
       "      <td>Futrelle, Mrs. Jacques Heath (Lily May Peel)</td>\n",
       "      <td>1</td>\n",
       "      <td>35.000000</td>\n",
       "      <td>1</td>\n",
       "      <td>0</td>\n",
       "      <td>113803</td>\n",
       "      <td>53.1000</td>\n",
       "      <td>0</td>\n",
       "    </tr>\n",
       "    <tr>\n",
       "      <th>4</th>\n",
       "      <td>5</td>\n",
       "      <td>0</td>\n",
       "      <td>3</td>\n",
       "      <td>Allen, Mr. William Henry</td>\n",
       "      <td>0</td>\n",
       "      <td>35.000000</td>\n",
       "      <td>0</td>\n",
       "      <td>0</td>\n",
       "      <td>373450</td>\n",
       "      <td>8.0500</td>\n",
       "      <td>0</td>\n",
       "    </tr>\n",
       "    <tr>\n",
       "      <th>5</th>\n",
       "      <td>6</td>\n",
       "      <td>0</td>\n",
       "      <td>3</td>\n",
       "      <td>Moran, Mr. James</td>\n",
       "      <td>0</td>\n",
       "      <td>29.699118</td>\n",
       "      <td>0</td>\n",
       "      <td>0</td>\n",
       "      <td>330877</td>\n",
       "      <td>8.4583</td>\n",
       "      <td>2</td>\n",
       "    </tr>\n",
       "  </tbody>\n",
       "</table>\n",
       "</div>"
      ],
      "text/plain": [
       "   PassengerId  Survived  Pclass  \\\n",
       "0            1         0       3   \n",
       "2            3         1       3   \n",
       "3            4         1       1   \n",
       "4            5         0       3   \n",
       "5            6         0       3   \n",
       "\n",
       "                                           Name  Sex        Age  SibSp  Parch  \\\n",
       "0                       Braund, Mr. Owen Harris    0  22.000000      1      0   \n",
       "2                        Heikkinen, Miss. Laina    1  26.000000      0      0   \n",
       "3  Futrelle, Mrs. Jacques Heath (Lily May Peel)    1  35.000000      1      0   \n",
       "4                      Allen, Mr. William Henry    0  35.000000      0      0   \n",
       "5                              Moran, Mr. James    0  29.699118      0      0   \n",
       "\n",
       "             Ticket     Fare  Embarked  \n",
       "0         A/5 21171   7.2500         0  \n",
       "2  STON/O2. 3101282   7.9250         0  \n",
       "3            113803  53.1000         0  \n",
       "4            373450   8.0500         0  \n",
       "5            330877   8.4583         2  "
      ]
     },
     "execution_count": 49,
     "metadata": {},
     "output_type": "execute_result"
    }
   ],
   "source": [
    "titanic_df2.head()"
   ]
  },
  {
   "cell_type": "code",
   "execution_count": 50,
   "id": "563320db",
   "metadata": {},
   "outputs": [],
   "source": [
    "#  x1 and y1 are defined as the input features and output labels, respectively, for a machine learning model to be trained on the Titanic dataset.\n",
    "x1 = titanic_df2.drop(columns=['Name','PassengerId','Ticket','Survived'], axis=1)\n",
    "y1 = titanic_df2['Survived']"
   ]
  },
  {
   "cell_type": "code",
   "execution_count": 51,
   "id": "0b53458e",
   "metadata": {},
   "outputs": [],
   "source": [
    "x1_train,x1_test,y1_train,y1_test = train_test_split(x1, y1, test_size=0.20, random_state=2)"
   ]
  },
  {
   "cell_type": "code",
   "execution_count": 52,
   "id": "d9d51d3a",
   "metadata": {},
   "outputs": [
    {
     "data": {
      "text/plain": [
       "(620, 7)"
      ]
     },
     "execution_count": 52,
     "metadata": {},
     "output_type": "execute_result"
    }
   ],
   "source": [
    "#  check the shape of the x_train DataFrame:\n",
    "x1_train.shape"
   ]
  },
  {
   "cell_type": "code",
   "execution_count": 53,
   "id": "7407f7da",
   "metadata": {},
   "outputs": [
    {
     "data": {
      "text/plain": [
       "(155, 7)"
      ]
     },
     "execution_count": 53,
     "metadata": {},
     "output_type": "execute_result"
    }
   ],
   "source": [
    "x1_test.shape"
   ]
  },
  {
   "cell_type": "code",
   "execution_count": 54,
   "id": "fe8688ed",
   "metadata": {},
   "outputs": [],
   "source": [
    "Lr1 = LogisticRegression()"
   ]
  },
  {
   "cell_type": "code",
   "execution_count": 55,
   "id": "aecf3799",
   "metadata": {},
   "outputs": [],
   "source": [
    "#fit the model using the training data\n",
    "Lr1.fit(x1_train,y1_train)\n",
    "\n",
    "#use model to make predictions on test data\n",
    "x1_test_pred1 = Lr1.predict(x1_test)\n",
    "x1_train_pred1 = Lr1.predict(x1_train)"
   ]
  },
  {
   "cell_type": "code",
   "execution_count": 56,
   "id": "26ce17fd",
   "metadata": {},
   "outputs": [],
   "source": [
    "# using the confusion_matrix() function from the metrics module of scikit-learn (sklearn) library to calculate the confusion matrix of the logistic regression model.\n",
    "cnf1_matrix = metrics.confusion_matrix(y1_test, x1_test_pred1)\n",
    "cnf1_matrix1 = metrics.confusion_matrix(y1_train, x1_train_pred1)"
   ]
  },
  {
   "cell_type": "code",
   "execution_count": 57,
   "id": "3b9c8dd4",
   "metadata": {},
   "outputs": [
    {
     "data": {
      "text/plain": [
       "array([[84, 16],\n",
       "       [17, 38]], dtype=int64)"
      ]
     },
     "execution_count": 57,
     "metadata": {},
     "output_type": "execute_result"
    }
   ],
   "source": [
    "cnf1_matrix"
   ]
  },
  {
   "cell_type": "code",
   "execution_count": 58,
   "id": "f94ccce6",
   "metadata": {},
   "outputs": [],
   "source": [
    "classification1_report = metrics.classification_report(y1_test, x1_test_pred1)"
   ]
  },
  {
   "cell_type": "code",
   "execution_count": 59,
   "id": "d367f40f",
   "metadata": {},
   "outputs": [
    {
     "data": {
      "text/plain": [
       "'              precision    recall  f1-score   support\\n\\n           0       0.83      0.84      0.84       100\\n           1       0.70      0.69      0.70        55\\n\\n    accuracy                           0.79       155\\n   macro avg       0.77      0.77      0.77       155\\nweighted avg       0.79      0.79      0.79       155\\n'"
      ]
     },
     "execution_count": 59,
     "metadata": {},
     "output_type": "execute_result"
    }
   ],
   "source": [
    "classification1_report"
   ]
  },
  {
   "cell_type": "code",
   "execution_count": 60,
   "id": "3d9b295d",
   "metadata": {},
   "outputs": [],
   "source": [
    "classification1_report1 = metrics.classification_report(y1_train, x1_train_pred1)"
   ]
  },
  {
   "cell_type": "code",
   "execution_count": 61,
   "id": "6cb624a8",
   "metadata": {},
   "outputs": [
    {
     "data": {
      "text/plain": [
       "'              precision    recall  f1-score   support\\n\\n           0       0.83      0.88      0.85       412\\n           1       0.72      0.64      0.68       208\\n\\n    accuracy                           0.80       620\\n   macro avg       0.78      0.76      0.77       620\\nweighted avg       0.79      0.80      0.80       620\\n'"
      ]
     },
     "execution_count": 61,
     "metadata": {},
     "output_type": "execute_result"
    }
   ],
   "source": [
    "classification1_report1"
   ]
  },
  {
   "cell_type": "markdown",
   "id": "cb3d98fd",
   "metadata": {},
   "source": [
    "#### Precision: This metric represents the proportion of correctly classified positive instances (true positives) out of all predicted positive instances (true positives and false positives). In this report, precision is 0.83 for class 0 and 0.72 for class 1, indicating that the model is more precise in predicting class 0 compared to class 1.\n",
    "\n",
    "#### Recall: This metric represents the proportion of correctly classified positive instances (true positives) out of all actual positive instances (true positives and false negatives). In this report, recall is 0.88 for class 0 and 0.64 for class 1, indicating that the model is better at identifying instances of class 0 compared to class 1.\n",
    "\n",
    "#### F1-score: This metric is the harmonic mean of precision and recall, and provides a balance between the two metrics. In this report, the f1-score is 0.85 for class 0 and 0.68 for class 1.\n",
    "\n",
    "#### Support: This metric represents the number of instances for each class.\n",
    "\n",
    "#### In addition to these class-specific metrics, the report also includes overall accuracy, which is 0.80, and macro- and weighted-average scores for precision, recall, and f1-score. The macro-average is the unweighted average of the metrics for each class, while the weighted-average takes into account the number of instances for each class. The macro-average and weighted-average scores are 0.78 and 0.79 for precision, 0.76 and 0.80 for recall, and 0.77 and 0.80 for f1-score, respectively.\n",
    "\n",
    "### In this scenario, the testing accuracy (79%) is almost as high as the training accuracy (80%). This suggests that the model is likely performing well on both the training and testing data, and is not overfitting or underfitting the data to a large extent."
   ]
  },
  {
   "cell_type": "code",
   "execution_count": 62,
   "id": "933e9e96",
   "metadata": {},
   "outputs": [
    {
     "name": "stdout",
     "output_type": "stream",
     "text": [
      "Cross-validation accuracy: 0.79 (+/- 0.04)\n"
     ]
    }
   ],
   "source": [
    "# Perform 4-fold cross-validation\n",
    "scores1 = cross_val_score(Lr1, x1, y1, cv=4, scoring='accuracy')\n",
    "\n",
    "# Print average accuracy across all folds\n",
    "print(\"Cross-validation accuracy: %0.2f (+/- %0.2f)\" % (scores.mean(), scores.std() * 2))"
   ]
  },
  {
   "cell_type": "markdown",
   "id": "bfc08d1c",
   "metadata": {},
   "source": [
    "#### \"Cross-validation accuracy: 0.79 (+/- 0.04)\" means that the model's accuracy was 0.79 on average across all k folds, with a standard deviation of 0.04. \n",
    "#### The \"+/- 0.04\" part of the result is also known as the confidence interval. It gives an idea of the range in which the true accuracy of the model is likely to lie. Specifically, we can say with a 95% confidence that the true accuracy of the model falls within the range (0.79 - 0.04, 0.79 + 0.04), or (0.75, 0.83)."
   ]
  },
  {
   "cell_type": "code",
   "execution_count": 63,
   "id": "33298a3a",
   "metadata": {},
   "outputs": [
    {
     "name": "stdout",
     "output_type": "stream",
     "text": [
      "Decision Tree accuracy: 0.7612903225806451\n",
      "Random Forest accuracy: 0.7741935483870968\n",
      "SVM accuracy: 0.6774193548387096\n"
     ]
    }
   ],
   "source": [
    "# Import required libraries\n",
    "from sklearn.tree import DecisionTreeClassifier\n",
    "from sklearn.ensemble import RandomForestClassifier\n",
    "from sklearn.svm import SVC\n",
    "\n",
    "# Instantiate classifiers\n",
    "dt1 = DecisionTreeClassifier()\n",
    "rf1 = RandomForestClassifier()\n",
    "svm1 = SVC()\n",
    "\n",
    "# Train the classifiers\n",
    "dt1.fit(x1_train, y1_train)\n",
    "rf1.fit(x1_train, y1_train)\n",
    "svm1.fit(x1_train, y1_train)\n",
    "\n",
    "# Make predictions on the test data\n",
    "dt1_pred = dt.predict(x1_test)\n",
    "rf1_pred = rf.predict(x1_test)\n",
    "svm1_pred = svm.predict(x1_test)\n",
    "\n",
    "# Evaluate the performance of the classifiers\n",
    "dt1_score = dt1.score(x1_test, y1_test)\n",
    "rf1_score = rf1.score(x1_test, y1_test)\n",
    "svm1_score = svm1.score(x1_test, y1_test)\n",
    "\n",
    "# Print the scores\n",
    "print('Decision Tree accuracy:', dt1_score)\n",
    "print('Random Forest accuracy:', rf1_score)\n",
    "print('SVM accuracy:', svm1_score)"
   ]
  },
  {
   "cell_type": "markdown",
   "id": "c57b3cfb",
   "metadata": {},
   "source": [
    "### The decision tree and random forest classifiers achieved the same accuracy of 0.774, while the support vector machine (SVM) classifier had a lower accuracy of 0.677."
   ]
  },
  {
   "cell_type": "code",
   "execution_count": null,
   "id": "342c5ee0",
   "metadata": {},
   "outputs": [],
   "source": []
  }
 ],
 "metadata": {
  "kernelspec": {
   "display_name": "Python 3 (ipykernel)",
   "language": "python",
   "name": "python3"
  },
  "language_info": {
   "codemirror_mode": {
    "name": "ipython",
    "version": 3
   },
   "file_extension": ".py",
   "mimetype": "text/x-python",
   "name": "python",
   "nbconvert_exporter": "python",
   "pygments_lexer": "ipython3",
   "version": "3.10.9"
  }
 },
 "nbformat": 4,
 "nbformat_minor": 5
}
